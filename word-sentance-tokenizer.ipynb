{
 "cells": [
  {
   "cell_type": "markdown",
   "id": "f88c6875-11c1-46d6-aa6d-9c1c69c56e60",
   "metadata": {},
   "source": [
    "#With respect to the sample texts provided below, practice word and sentence tokenization.: Using NLKT\n"
   ]
  },
  {
   "cell_type": "raw",
   "id": "810b5d89-7456-42ac-a074-c0ddcb46e88b",
   "metadata": {},
   "source": [
    "Sample Texts:\n",
    "\n",
    "· 20 years ago, we all found in different ways in different places but all at the same moment.\n",
    "\n",
    "· That our lives would be changed forever. The world was loud with carnage and sirens and then quiet with missing voices that would never be heard again.\n",
    "\n",
    "· These lives remain precious to our country and infinitely precious to many of you. Today, we remember your loss, we share your sorrow, and we honor the men and women you have loved so long and so well. For those too young to recall that clear September day, it is hard to describe the mix of feelings we experienced.\n",
    "\n",
    "· There was horror at the scale of destruction. and awe at the bravery and kindness that rose to meet it. There was, shock! at the audacity of evil and gratitude, for the heroism and decency that opposed it? In the sacrifice!"
   ]
  },
  {
   "cell_type": "code",
   "execution_count": 1,
   "id": "bcc43b0d-2831-4621-a572-a39ecd47061c",
   "metadata": {},
   "outputs": [
    {
     "name": "stdout",
     "output_type": "stream",
     "text": [
      "['20', 'years', 'ago', ',', 'we', 'all', 'found', 'in', 'different', 'ways', 'in', 'different', 'places', 'but', 'all', 'at', 'the', 'same', 'moment.That', 'our', 'lives', 'would', 'be', 'changed', 'forever', '.', 'The', 'world', 'was', 'loud', 'with', 'carnage', 'and', 'sirens', 'and', 'then', 'quiet', 'with', 'missing', 'voices', 'that', 'would', 'never', 'be', 'heard', 'again.These', 'lives', 'remain', 'precious', 'to', 'our', 'country', 'and', 'infinitely', 'precious', 'to', 'many', 'of', 'you', '.', 'Today', ',', 'we', 'remember', 'your', 'loss', ',', 'we', 'share', 'your', 'sorrow', ',', 'and', 'we', 'honor', 'the', 'men', 'and', 'women', 'you', 'have', 'loved', 'so', 'long', 'and', 'so', 'well', '.', 'For', 'those', 'too', 'young', 'to', 'recall', 'that', 'clear', 'September', 'day', ',', 'it', 'is', 'hard', 'to', 'describe', 'the', 'mix', 'of', 'feelings', 'we', 'experienced', '.', 'There', 'was', 'horror', 'at', 'the', 'scale', 'of', 'destruction', '.', 'and', 'awe', 'at', 'the', 'bravery', 'and', 'kindness', 'that', 'rose', 'to', 'meet', 'it', '.', 'There', 'was', ',', 'shock', '!', 'at', 'the', 'audacity', 'of', 'evil', 'and', 'gratitude', ',', 'for', 'the', 'heroism', 'and', 'decency', 'that', 'opposed', 'it', '?', 'In', 'the', 'sacrifice', '!']\n",
      "--------------------------------------------------------\n",
      "['20 years ago, we all found in different ways in different places but all at the same moment.That our lives would be changed forever.', 'The world was loud with carnage and sirens and then quiet with missing voices that would never be heard again.These lives remain precious to our country and infinitely precious to many of you.', 'Today, we remember your loss, we share your sorrow, and we honor the men and women you have loved so long and so well.', 'For those too young to recall that clear September day, it is hard to describe the mix of feelings we experienced.', 'There was horror at the scale of destruction.', 'and awe at the bravery and kindness that rose to meet it.', 'There was, shock!', 'at the audacity of evil and gratitude, for the heroism and decency that opposed it?', 'In the sacrifice!']\n"
     ]
    }
   ],
   "source": [
    "import nltk \n",
    "from nltk.tokenize import sent_tokenize, word_tokenize\n",
    "TEXT_PARA = \"20 years ago, we all found in different ways in different places but all at the same moment.That our lives would be changed forever. The world was loud with carnage and sirens and then quiet with missing voices that would never be heard again.These lives remain precious to our country and infinitely precious to many of you. Today, we remember your loss, we share your sorrow, and we honor the men and women you have loved so long and so well. For those too young to recall that clear September day, it is hard to describe the mix of feelings we experienced.\\n There was horror at the scale of destruction. and awe at the bravery and kindness that rose to meet it. There was, shock! at the audacity of evil and gratitude, for the heroism and decency that opposed it? In the sacrifice!\"\n",
    "word_token =word_tokenize(TEXT_PARA)\n",
    "sent_token = sent_tokenize(TEXT_PARA)\n",
    "print(word_token)\n",
    "print(\"--------------------------------------------------------\")\n",
    "print(sent_token)"
   ]
  },
  {
   "cell_type": "markdown",
   "id": "4610dcd8-816d-48d6-b174-0a1990efeac4",
   "metadata": {},
   "source": [
    "#Also create a list of filtered words using stop word library in Nltk. You can also create a list of your own stop words to get more useful words.\n"
   ]
  },
  {
   "cell_type": "code",
   "execution_count": 10,
   "id": "a112f90c-56b4-4369-91ce-5575738eb435",
   "metadata": {},
   "outputs": [
    {
     "name": "stdout",
     "output_type": "stream",
     "text": [
      "['20', 'years', 'ago', ',', 'found', 'different', 'ways', 'different', 'places', 'moment.That', 'lives', 'would', 'changed', 'forever', '.', 'The', 'world', 'loud', 'carnage', 'sirens', 'quiet', 'missing', 'voices', 'would', 'never', 'heard', 'again.These', 'lives', 'remain', 'precious', 'country', 'infinitely', 'precious', 'many', '.', 'Today', ',', 'remember', 'loss', ',', 'share', ',', 'honor', 'men', 'women', 'loved', 'long', 'well', '.', 'For', 'young', 'recall', 'clear', 'September', 'day', ',', 'hard', 'describe', 'mix', 'feelings', 'experienced', '.', 'There', 'horror', 'scale', 'destruction', '.', 'awe', 'bravery', 'kindness', 'rose', 'meet', '.', 'There', ',', '!', 'audacity', 'gratitude', ',', 'heroism', 'decency', 'opposed', '?', 'In', '!']\n",
      "---------------------------------------------------------------\n",
      "The number of words stopped : 74\n"
     ]
    }
   ],
   "source": [
    "import nltk \n",
    "from nltk.corpus import stopwords\n",
    "from nltk.tokenize import word_tokenize\n",
    "\n",
    "TEXT_PARA = \"20 years ago, we all found in different ways in different places but all at the same moment.That our lives would be changed forever. The world was loud with carnage and sirens and then quiet with missing voices that would never be heard again.These lives remain precious to our country and infinitely precious to many of you. Today, we remember your loss, we share your sorrow, and we honor the men and women you have loved so long and so well. For those too young to recall that clear September day, it is hard to describe the mix of feelings we experienced.\\n There was horror at the scale of destruction. and awe at the bravery and kindness that rose to meet it. There was, shock! at the audacity of evil and gratitude, for the heroism and decency that opposed it? In the sacrifice!\"\n",
    "word_token =word_tokenize(TEXT_PARA)\n",
    "stop_words = set(stopwords.words('english'))\n",
    "stop_words = list(stop_words)\n",
    "extra_stop_word = [\"shock\",\"evil\",\"sacrifice\",\"sorrow\"]\n",
    "\n",
    "total_stop_word = stop_words+extra_stop_word\n",
    "filtered_sentence = [w for w in word_token if not w in total_stop_word]\n",
    "print(filtered_sentence)\n",
    "print(\"---------------------------------------------------------------\")\n",
    "print(\"The number of words stopped :\",(len(word_token)-len(filtered_sentence)))\n"
   ]
  },
  {
   "cell_type": "code",
   "execution_count": null,
   "id": "edaf5659-a230-4139-89be-f736d652af07",
   "metadata": {},
   "outputs": [],
   "source": []
  },
  {
   "cell_type": "code",
   "execution_count": null,
   "id": "0c650b6b-093e-42f4-91cf-ac2a8aa2af75",
   "metadata": {},
   "outputs": [],
   "source": []
  }
 ],
 "metadata": {
  "kernelspec": {
   "display_name": "Python 3 (ipykernel)",
   "language": "python",
   "name": "python3"
  },
  "language_info": {
   "codemirror_mode": {
    "name": "ipython",
    "version": 3
   },
   "file_extension": ".py",
   "mimetype": "text/x-python",
   "name": "python",
   "nbconvert_exporter": "python",
   "pygments_lexer": "ipython3",
   "version": "3.12.3"
  }
 },
 "nbformat": 4,
 "nbformat_minor": 5
}
